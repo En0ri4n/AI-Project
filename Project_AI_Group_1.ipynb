{
 "nbformat": 4,
 "nbformat_minor": 0,
 "metadata": {
  "colab": {
   "provenance": []
  },
  "kernelspec": {
   "name": "python3",
   "language": "python",
   "display_name": "Python 3 (ipykernel)"
  },
  "language_info": {
   "name": "python"
  }
 },
 "cells": [
  {
   "cell_type": "markdown",
   "source": [
    "# Artificial Intelligence Project\n",
    "\n",
    "## Group 1:\n",
    "### - Rajoelisoa Enorian\n",
    "### - Hirli Baptiste\n",
    "### - Bhattacharjee Ankit\n",
    "### - Caumartin Evan"
   ],
   "metadata": {
    "collapsed": false
   }
  },
  {
   "cell_type": "markdown",
   "source": [
    "# Data Preprocessing\n",
    "\n",
    "### 1. Load the data\n",
    "### 2. Merge the data\n",
    "### 3. Calculate the average working time\n",
    "### 4. Remove the outliers\n",
    "### 5. Drop the unnecessary columns\n",
    "### 6. Encode the categorical data\n",
    "### 7. Impute the missing values\n",
    "### 8. Scale the data\n",
    "### 9. Save the data"
   ],
   "metadata": {
    "collapsed": false
   }
  },
  {
   "cell_type": "code",
   "outputs": [],
   "source": [
    "import numpy as np\n",
    "import pandas as pd\n",
    "import seaborn as sns\n",
    "import matplotlib.pyplot as plt\n",
    "from sklearn.impute import SimpleImputer\n",
    "from sklearn.preprocessing import MinMaxScaler"
   ],
   "metadata": {
    "id": "lVFYaugeLQiE"
   },
   "execution_count": null
  },
  {
   "cell_type": "code",
   "outputs": [],
   "source": [
    "full_employee_data: pd.DataFrame = pd.DataFrame()\n",
    "\n",
    "is_ethic = True"
   ],
   "metadata": {
    "id": "Dg2ybgF8LpMd"
   },
   "execution_count": null
  },
  {
   "cell_type": "markdown",
   "source": [
    "# Load the data\n",
    "\n",
    "### Load the data from the datasets folder\n",
    "\n",
    "We read multiple CSV files into pandas DataFrames. The general_data, employee_survey_data, and manager_survey_data DataFrames contain general, employee survey, and manager survey data, respectively. The in_time and out_time DataFrames contain timestamp data for employee check-in and check-out times, which are converted to datetime format."
   ],
   "metadata": {
    "collapsed": false
   }
  },
  {
   "cell_type": "code",
   "outputs": [],
   "source": [
    "general_data = pd.read_csv('datasets/general_data.csv')\n",
    "employee_survey_data = pd.read_csv('datasets/employee_survey_data.csv')\n",
    "manager_survey_data = pd.read_csv('datasets/manager_survey_data.csv')\n",
    "in_time: pd.DataFrame = pd.read_csv('datasets/in_time.csv', parse_dates=True)\n",
    "out_time = pd.read_csv('datasets/out_time.csv', parse_dates=True)"
   ],
   "metadata": {
    "collapsed": false
   },
   "execution_count": null
  },
  {
   "cell_type": "markdown",
   "source": [
    "# Merge the data\n",
    "\n",
    "We are merging general data, employee survey data, and manager survey data into a single DataFrame."
   ],
   "metadata": {
    "collapsed": false
   }
  },
  {
   "cell_type": "code",
   "outputs": [],
   "source": [
    "full_employee_data = general_data.merge(employee_survey_data, on='EmployeeID')\n",
    "full_employee_data = full_employee_data.merge(manager_survey_data, on='EmployeeID')"
   ],
   "metadata": {
    "collapsed": false
   },
   "execution_count": null
  },
  {
   "cell_type": "markdown",
   "source": [
    "# Calculate the average working time\n",
    "\n",
    "We analyzed employee working patterns by calculating key metrics such as average arrival time, departure time, and working hours. Starting with arrival (`in_time`) and departure (`out_time`) datasets, we determined the total time spent at work each day by subtracting arrival times from departure times and converting the results into hours.\n",
    "(Here, we assumed that the arrival and departure times were on the same day to simplify the analysis. If the data spanned multiple days, additional processing would be required to account for overnight shifts.)\n",
    "We then calculated the **AverageArrivalTime** (mean of arrival times), **AverageDepartureTime** (latest departure time), and **AverageWorkingTime** (average daily working hours) for each employee. These insights were combined into a new dataset and merged with the general employee data to provide a comprehensive view, including details like name and department alongside their working time metrics.\n",
    "For instance, an employee arriving at 9:15 AM and leaving at 6:30 PM consistently would have an average working time of 9 hours. This analysis helps in understanding employee work habits, identifying trends, and improving operational efficiency."
   ],
   "metadata": {
    "collapsed": false
   }
  },
  {
   "cell_type": "code",
   "outputs": [],
   "source": [
    "# Fill missing values\n",
    "in_time = in_time.fillna('1970-01-01 00:00:00')\n",
    "out_time = out_time.fillna('1970-01-01 00:00:00')\n",
    "\n",
    "# Convert all times to datetime\n",
    "in_time.iloc[:, 1:] = in_time.iloc[:, 1:].apply(pd.to_datetime).apply(lambda x: x.dt.hour * 3600 + x.dt.minute * 60 + x.dt.second)\n",
    "out_time.iloc[:, 1:] = out_time.iloc[:, 1:].apply(pd.to_datetime).apply(lambda x: x.dt.hour * 3600 + x.dt.minute * 60 + x.dt.second)\n",
    "\n",
    "# Replace 0 with row medians using mask or where to avoid the FutureWarning\n",
    "in_time.iloc[:, 1:] = in_time.iloc[:, 1:].apply(lambda row: row.mask(row == 0, row.median()), axis=1)\n",
    "out_time.iloc[:, 1:] = out_time.iloc[:, 1:].apply(lambda row: row.mask(row == 0, row.median()), axis=1)\n",
    "\n",
    "# Calculate working time for each day in hours\n",
    "working_time = (out_time.iloc[:, 1:] - in_time.iloc[:, 1:])\n",
    "\n",
    "# Average arrival time\n",
    "average_arrival_time = in_time.iloc[:, 1:].mean(axis=1)\n",
    "\n",
    "# Average departure time\n",
    "average_departure_time = out_time.iloc[:, 1:].max(axis=1)\n",
    "\n",
    "# Calculate average working time\n",
    "average_working_time = working_time.mean(axis=1) / 3600\n",
    "\n",
    "# Convert average times directly to total seconds\n",
    "result = pd.DataFrame({\n",
    "    'EmployeeID': in_time.iloc[:, 0],  # Use the first column directly\n",
    "    'AverageArrivalTime': average_arrival_time.round(0).astype(int),\n",
    "    'AverageDepartureTime': average_departure_time.round(0).astype(int),\n",
    "    'AverageWorkingTime': average_working_time.round(2)\n",
    "})\n",
    "\n",
    "result.to_csv('working_time_data.csv', index=False)\n",
    "\n",
    "# Merge with other employee data\n",
    "full_employee_data = full_employee_data.merge(result, on='EmployeeID')"
   ],
   "metadata": {
    "collapsed": false
   },
   "execution_count": null
  },
  {
   "cell_type": "markdown",
   "source": [
    "# Remove the outliers\n",
    "\n",
    "We removed the outliers from the dataset using the Interquartile Range (IQR) method. Outliers are data points that significantly differ from other observations in the dataset. They can skew the results of statistical analyses and machine learning models.\n",
    "The IQR method identifies outliers by calculating the range between the first and third quartiles of the data and flagging values that fall below the lower bound (Q1 - 1.5 * IQR) or above the upper bound (Q3 + 1.5 * IQR). Outliers are then replaced with the lower or upper bound values to ensure they do not impact the analysis."
   ],
   "metadata": {
    "collapsed": false
   }
  },
  {
   "cell_type": "code",
   "outputs": [],
   "source": [
    "def find_outliers_iqr(series):\n",
    "    Q1 = series.quantile(0.25)\n",
    "    Q3 = series.quantile(0.75)\n",
    "    IQR = Q3 - Q1\n",
    "    lower_bound = Q1 - 1.5 * IQR\n",
    "    upper_bound = Q3 + 1.5 * IQR\n",
    "    outliers = (series < lower_bound) | (series > upper_bound)\n",
    "    return outliers\n",
    "\n",
    "def cap_outliers_in_dataframe(df):\n",
    "    df = df.copy()\n",
    "\n",
    "    for column in df.columns:\n",
    "        if np.issubdtype(df[column].dtype, np.number):  # Check if the column contains numeric data\n",
    "            outliers = find_outliers_iqr(df[column])\n",
    "\n",
    "            # Cap the outliers by replacing them with lower/upper bounds\n",
    "            Q1 = df[column].quantile(0.25)\n",
    "            Q3 = df[column].quantile(0.75)\n",
    "            IQR = Q3 - Q1\n",
    "            lower_bound = Q1 - 1.5 * IQR\n",
    "            upper_bound = Q3 + 1.5 * IQR\n",
    "\n",
    "            df[column] = np.where(outliers, np.clip(df[column], lower_bound, upper_bound), df[column])\n",
    "\n",
    "    return df"
   ],
   "metadata": {
    "collapsed": false
   },
   "execution_count": null
  },
  {
   "cell_type": "code",
   "outputs": [],
   "source": [
    "full_employee_data = cap_outliers_in_dataframe(full_employee_data)"
   ],
   "metadata": {
    "collapsed": false
   },
   "execution_count": null
  },
  {
   "cell_type": "markdown",
   "source": [
    "## Display the first 5 rows of the data\n",
    "\n",
    "We displayed the first five rows of the dataset to understand its structure and contents. This step provides an overview of the data, including the column names, data types, and values. It helps in identifying any potential issues, such as missing values, outliers, or incorrect data types."
   ],
   "metadata": {
    "collapsed": false
   }
  },
  {
   "cell_type": "code",
   "source": [
    "full_employee_data.head()"
   ],
   "metadata": {
    "id": "u_5C4ygULVOL"
   },
   "execution_count": null,
   "outputs": []
  },
  {
   "cell_type": "markdown",
   "source": [
    "## Display the shape of the data\n",
    "\n",
    "We displayed the shape of the dataset to determine the number of rows and columns it contains. This information is essential for understanding the size and structure of the data, which can impact the analysis and modeling process."
   ],
   "metadata": {
    "collapsed": false
   }
  },
  {
   "cell_type": "code",
   "outputs": [],
   "source": [
    "full_employee_data.describe()"
   ],
   "metadata": {
    "collapsed": false
   },
   "execution_count": null
  },
  {
   "cell_type": "markdown",
   "source": [
    "## Display the columns of the data\n",
    "\n",
    "We displayed the column names of the dataset to identify the variables or features available for analysis. Understanding the columns helps in selecting relevant data for specific tasks, such as predictive modeling, clustering, or classification."
   ],
   "metadata": {
    "collapsed": false
   }
  },
  {
   "cell_type": "code",
   "outputs": [],
   "source": [
    "full_employee_data.isna().sum()"
   ],
   "metadata": {
    "collapsed": false
   },
   "execution_count": null
  },
  {
   "cell_type": "markdown",
   "source": [
    "# Drop the unnecessary columns\n",
    "\n",
    "We dropped the unnecessary columns from the dataset to focus on the relevant features for analysis. Removing redundant or irrelevant columns helps in reducing the dimensionality of the data and improving the performance of machine learning models.\n",
    "\n",
    "The columns `EmployeeCount`, `Over18`, and `StandardHours` were dropped as they contained constant values for all employees and did not provide any useful information for analysis.\n",
    "\n",
    "The `EmployeeID` column was also removed as it served as an identifier and was not required for further analysis."
   ],
   "metadata": {
    "collapsed": false
   }
  },
  {
   "cell_type": "code",
   "outputs": [],
   "source": [
    "# EmployeeCount : All values are 1\n",
    "# Over18 : All values are 'Y'\n",
    "# StandardHours : All values are 8\n",
    "columns_to_drop = ['EmployeeCount', 'Over18', 'StandardHours', 'EmployeeID']\n",
    "\n",
    "# Drop additional columns if is_ethic is True\n",
    "if is_ethic:\n",
    "    columns_to_drop += ['Age', 'Education', 'MaritalStatus', 'Gender', 'EducationField']\n",
    "\n",
    "full_employee_data = full_employee_data.drop(columns_to_drop, axis=1)"
   ],
   "metadata": {
    "collapsed": false
   },
   "execution_count": null
  },
  {
   "cell_type": "markdown",
   "source": [
    "# Encode the categorical data\n",
    "\n",
    "In this step, **we encoded categorical variables** in the employee dataset to prepare the data for machine learning models, which typically require numerical inputs. We targeted specific categorical columns: `Department`, `BusinessTravel`, `JobRole`, `MaritalStatus`, `Gender`, and `EducationField`.\n",
    "For each of these columns, we used **one-hot encoding**, a technique that converts each unique category into separate binary columns. For example, if the `Department` column contains values like \"Sales,\" \"HR,\" and \"R&D,\" one-hot encoding will create three new columns: `Department_Sales`, `Department_HR`, and `Department_R&D`. Each row will have a value of `1` in the relevant column and `0` in the others. This ensures that the categorical data is represented numerically without introducing any unintended ordinal relationships.\n",
    "\n",
    "To maintain flexibility, we first checked if each column in the list still existed in the dataset before applying the encoding. This avoids errors if columns were previously removed or altered. After encoding, the original categorical columns were dropped from the dataset to avoid redundancy. In addition to encoding, we transformed the **`Attrition`** column, which indicates whether an employee has left the company, into binary values.\n",
    "Specifically, we mapped `'Yes'` to `1` and `'No'` to `0`, making it suitable for classification models. This binary encoding enables the model to treat attrition as a target variable for predictive analysis. By the end of this process, all relevant categorical features and the target variable were represented numerically, ensuring the dataset was ready for further data processing or model training."
   ],
   "metadata": {
    "collapsed": false
   }
  },
  {
   "cell_type": "code",
   "outputs": [],
   "source": [
    "#Encoding\n",
    "cat_data = ['Department', 'BusinessTravel', 'JobRole', 'MaritalStatus', 'Gender', 'EducationField']\n",
    "\n",
    "# Only encode columns that are still present in the dataframe\n",
    "for i in cat_data:\n",
    "    if i in full_employee_data.columns:\n",
    "        vals = pd.get_dummies(full_employee_data[i], sparse=True)\n",
    "        full_employee_data = pd.concat([full_employee_data, vals], axis=1)\n",
    "        full_employee_data = full_employee_data.drop(i, axis=1)\n",
    "\n",
    "# Map Attrition column to binary values\n",
    "full_employee_data['Attrition'] = full_employee_data['Attrition'].map({'Yes': 1, 'No': 0})"
   ],
   "metadata": {
    "id": "VjBcyvMULXiP"
   },
   "execution_count": null
  },
  {
   "cell_type": "markdown",
   "source": [
    "# Impute the missing values\n",
    "\n",
    "In this step, we **imputed missing values** in the dataset to ensure that the data was complete and ready for analysis. Missing values can occur due to various reasons, such as data entry errors, system failures, or incomplete records. Imputation is the process of filling in missing values with estimated or calculated values based on the available data.\n",
    "We used the **SimpleImputer** class from scikit-learn to impute missing values in the dataset. We chose the **median strategy** to replace missing values with the median of each column. The median is a robust measure of central tendency that is less sensitive to outliers than the mean. By imputing missing values with the median, we aimed to maintain the integrity of the data and avoid introducing bias or distortion.\n",
    "After imputing missing values, we checked the dataset for any remaining null values to confirm that the imputation process was successful. This ensured that the data was clean, complete, and ready for further analysis or modeling."
   ],
   "metadata": {
    "collapsed": false
   }
  },
  {
   "cell_type": "code",
   "source": [
    "#Imputation\n",
    "imputer = SimpleImputer(strategy='median')\n",
    "\n",
    "for cat_name in full_employee_data.columns:\n",
    "    full_employee_data[cat_name] = imputer.fit_transform(full_employee_data[[cat_name]])\n",
    "\n",
    "print(full_employee_data.isnull().sum())"
   ],
   "metadata": {
    "id": "JKtP8PjoLaVY"
   },
   "execution_count": null,
   "outputs": []
  },
  {
   "cell_type": "markdown",
   "source": [
    "# Scale the data\n",
    "\n",
    "In this step, we **scaled the data** to ensure that all features were on a similar scale, which is essential for many machine learning algorithms. Scaling the data helps in improving the performance and convergence of models by ensuring that no single feature dominates the others.\n",
    "We used the **MinMaxScaler** class from scikit-learn to scale the data to a specific range. Min-max scaling transforms the data to a specified range (default is 0 to 1) by subtracting the minimum value and dividing by the range. This normalization technique preserves the relationships between the data points while ensuring that all features are within the same scale.\n",
    "After scaling the data, we checked the summary statistics of the dataset to confirm that all features were scaled appropriately. This step ensured that the data was ready for further analysis, modeling, or visualization."
   ],
   "metadata": {
    "collapsed": false
   }
  },
  {
   "cell_type": "code",
   "source": [
    "# Scaling\n",
    "scaler = MinMaxScaler()\n",
    "\n",
    "no_scale = [\"PerformanceRating\", \"Attrition\"]\n",
    "\n",
    "for cat_name in full_employee_data.columns:\n",
    "    if cat_name not in no_scale:\n",
    "        full_employee_data[cat_name] = scaler.fit_transform(full_employee_data[[cat_name]])\n",
    "    \n",
    "print(full_employee_data.head())"
   ],
   "metadata": {
    "id": "qNPFmGZ3Lbfw"
   },
   "execution_count": null,
   "outputs": []
  },
  {
   "cell_type": "code",
   "outputs": [],
   "source": [
    "# Display the first 5 rows of the data\n",
    "print(full_employee_data.head())\n",
    "\n",
    "# Display the shape of the data\n",
    "print(full_employee_data.shape)\n",
    "\n",
    "# Display the columns of the data\n",
    "print(full_employee_data.columns)\n",
    "\n",
    "# Display the summary statistics of the data\n",
    "print(full_employee_data.describe(include='all'))\n",
    "\n",
    "# Display the missing values in the data\n",
    "print(full_employee_data.isnull().sum())\n",
    "\n",
    "# Display the unique values in the data\n",
    "full_employee_data.hist(bins=50, figsize=(20, 15))\n",
    "plt.show()"
   ],
   "metadata": {
    "collapsed": false
   },
   "execution_count": null
  },
  {
   "cell_type": "code",
   "outputs": [],
   "source": [
    "def display_correlation_matrix(data: pd.DataFrame):\n",
    "    # Display the correlation matrix of the data\n",
    "    corr_matrix = data.corr()\n",
    "\n",
    "    # Create a heatmap of the correlation matrix\n",
    "    plt.figure(figsize=(20, 15), edgecolor='white')\n",
    "    sns.heatmap(corr_matrix, annot=True, fmt='.3f', cmap='YlGnBu', cbar=False)\n",
    "    plt.show()\n",
    "\n",
    "display_correlation_matrix(full_employee_data)"
   ],
   "metadata": {
    "collapsed": false
   },
   "execution_count": null
  },
  {
   "cell_type": "markdown",
   "source": [
    "# Remove the columns with high correlation\n",
    "\n",
    "We removed the columns with high correlation to avoid multicollinearity, which can lead to unstable model coefficients and inaccurate predictions. Multicollinearity occurs when two or more independent variables are highly correlated, making it difficult to determine the individual effect of each variable on the target variable.\n",
    "We identified the highly correlated columns using the correlation matrix and removed them from the dataset. This step helped in improving the model's performance and interpretability by eliminating redundant features and reducing the complexity of the data.\n",
    "We removed the columns `Travel_Rarely`, `AverageDepartureTime`, `YearsWithCurrManager`, and `Sales` from the dataset due to high correlation with other variables."
   ],
   "metadata": {
    "collapsed": false
   }
  },
  {
   "cell_type": "code",
   "outputs": [],
   "source": [
    "# Remove the columns with high correlation\n",
    "full_employee_data = full_employee_data.drop(\"Travel_Rarely\", axis=1)\n",
    "full_employee_data = full_employee_data.drop(\"AverageDepartureTime\", axis=1)\n",
    "full_employee_data = full_employee_data.drop(\"YearsWithCurrManager\", axis=1)\n",
    "full_employee_data = full_employee_data.drop(\"Sales\", axis=1)\n",
    "\n",
    "display_correlation_matrix(full_employee_data)\n"
   ],
   "metadata": {
    "collapsed": false
   },
   "execution_count": null
  },
  {
   "cell_type": "markdown",
   "source": [],
   "metadata": {
    "collapsed": false
   }
  },
  {
   "cell_type": "code",
   "outputs": [],
   "source": [
    "full_employee_data.to_csv('full_employee_data_cleaned.csv', index=False)"
   ],
   "metadata": {
    "collapsed": false
   },
   "execution_count": null
  },
  {
   "cell_type": "markdown",
   "source": [
    "# Testing Different ML Models"
   ],
   "metadata": {
    "collapsed": false
   }
  },
  {
   "cell_type": "markdown",
   "source": [
    "#### *Linear Kernel Classification*"
   ],
   "metadata": {
    "collapsed": false
   }
  },
  {
   "cell_type": "code",
   "outputs": [],
   "source": [
    "import pandas as pd\n",
    "from sklearn.model_selection import train_test_split\n",
    "from sklearn.svm import LinearSVC\n",
    "\n",
    "from models.statistics_helper import StatisticsHelper\n",
    "\n",
    "# Load the data\n",
    "full_employee_data = pd.read_csv('./full_employee_data_cleaned.csv')\n",
    "\n",
    "# Prepare the data\n",
    "target_column = 'Attrition'\n",
    "X = full_employee_data.drop(target_column, axis=1)\n",
    "y = full_employee_data[target_column]\n",
    "\n",
    "# Split the data into training and testing sets\n",
    "X_train, X_test, y_train, y_test = train_test_split(X, y, test_size=0.2, shuffle=True, random_state=42)\n",
    "\n",
    "lr_model = LinearSVC(random_state=42, dual='auto')\n",
    "lr_model.fit(X_train, y_train)\n",
    "\n",
    "# Make predictions\n",
    "y_pred = lr_model.predict(X_test)\n",
    "\n",
    "# Display the statistics\n",
    "stat_helper = StatisticsHelper(X, y, lr_model, y_test, y_pred)\n",
    "stat_helper.show_all()"
   ],
   "metadata": {
    "collapsed": false
   },
   "execution_count": null
  },
  {
   "cell_type": "markdown",
   "source": [
    "#### *Logistic Regression*"
   ],
   "metadata": {
    "collapsed": false
   }
  },
  {
   "cell_type": "code",
   "outputs": [],
   "source": [
    "import pandas as pd\n",
    "from sklearn.model_selection import train_test_split\n",
    "from sklearn.linear_model import LogisticRegression\n",
    "from models.statistics_helper import StatisticsHelper\n",
    "\n",
    "# Load the data\n",
    "full_employee_data = pd.read_csv('./full_employee_data_cleaned.csv')\n",
    "\n",
    "# Prepare the data\n",
    "target_column = 'Attrition'\n",
    "X = full_employee_data.drop(target_column, axis=1)\n",
    "y = full_employee_data[target_column]\n",
    "\n",
    "# Split the data into training and testing sets\n",
    "X_train, X_test, y_train, y_test = train_test_split(X, y, test_size=0.2, shuffle=True, random_state=42)\n",
    "\n",
    "# Initialize the Logistic Regression model\n",
    "log_reg_model = LogisticRegression(random_state=42, max_iter=1000)  # Increase max_iter if convergence warnings occur\n",
    "log_reg_model.fit(X_train, y_train)\n",
    "\n",
    "# Make predictions\n",
    "y_pred = log_reg_model.predict(X_test)\n",
    "\n",
    "# Display the statistics\n",
    "stat_helper = StatisticsHelper(X, y, log_reg_model, y_test, y_pred)\n",
    "stat_helper.show_all()\n"
   ],
   "metadata": {
    "collapsed": false
   },
   "execution_count": null
  },
  {
   "cell_type": "markdown",
   "source": [
    "#### *Random Forest*"
   ],
   "metadata": {
    "collapsed": false
   }
  },
  {
   "cell_type": "code",
   "outputs": [
    {
     "name": "stdout",
     "output_type": "stream",
     "text": [
      "--- Cross Validation Scores ---\n",
      "Cross-validated scores: [0.96600567 0.96883853 0.9815864  0.9787234  0.97588652]\n",
      "Mean accuracy: 0.9742081047957727\n",
      "Standard deviation: 0.005895026207919015\n",
      "-------------------------------\n",
      "---- Regression Statistics ----\n",
      "Mean Squared Error: 0.012471655328798186\n",
      "R^2 Score: 0.9071410112843483\n",
      "-----------------------------\n"
     ]
    }
   ],
   "source": [
    "import pandas as pd\n",
    "from sklearn.model_selection import train_test_split\n",
    "from sklearn.ensemble import RandomForestClassifier\n",
    "\n",
    "from models.statistics_helper import StatisticsHelper\n",
    "\n",
    "# Load the data\n",
    "full_employee_data: pd.DataFrame = pd.read_csv('./full_employee_data_cleaned.csv')\n",
    "\n",
    "target_column = 'Attrition'\n",
    "\n",
    "# Prepare the data\n",
    "X = full_employee_data.drop(target_column, axis=1)\n",
    "y = full_employee_data[target_column]\n",
    "\n",
    "# Split the data into training and testing sets\n",
    "X_train, X_test, y_train, y_test = train_test_split(X, y, test_size=0.2, shuffle=True, random_state=42)\n",
    "\n",
    "# Train the Random Forest model\n",
    "rf_model = RandomForestClassifier(n_estimators=1000, random_state=42)\n",
    "rf_model.fit(X_train, y_train)\n",
    "\n",
    "# Make predictions\n",
    "y_pred = rf_model.predict(X_test)\n",
    "\n",
    "# Display the statistics\n",
    "stats_helper = StatisticsHelper(X_train, y_train, rf_model, y_test, y_pred)\n",
    "stats_helper.show_all()\n"
   ],
   "metadata": {
    "collapsed": false
   },
   "execution_count": 269
  },
  {
   "cell_type": "markdown",
   "source": [
    "#### *K-Nearest-Neighbor*"
   ],
   "metadata": {
    "collapsed": false
   }
  },
  {
   "cell_type": "code",
   "outputs": [],
   "source": [
    "import pandas as pd\n",
    "from sklearn.model_selection import train_test_split\n",
    "from sklearn.neighbors import KNeighborsClassifier\n",
    "from models.statistics_helper import StatisticsHelper\n",
    "\n",
    "#Load the data\n",
    "full_employee_data: pd.DataFrame = pd.read_csv('full_employee_data_cleaned.csv')\n",
    "\n",
    "#Prepare the data\n",
    "target_column = 'Attrition'\n",
    "#Replace 'target_column' with the actual name of the target column\n",
    "X = full_employee_data.drop(target_column, axis=1)\n",
    "y = full_employee_data[target_column]\n",
    "\n",
    "#Split the data into training and testing sets\n",
    "X_train, X_test, y_train, y_test = train_test_split(X, y, test_size=0.2, shuffle=True, random_state=42)"
   ],
   "metadata": {
    "collapsed": false,
    "ExecuteTime": {
     "end_time": "2024-12-20T08:25:46.791522Z",
     "start_time": "2024-12-20T08:25:46.771587Z"
    }
   },
   "execution_count": 270
  },
  {
   "cell_type": "markdown",
   "source": [
    "##### Testing for the optimal n_neighbors value to use in this case"
   ],
   "metadata": {
    "collapsed": false
   }
  },
  {
   "cell_type": "code",
   "outputs": [
    {
     "name": "stdout",
     "output_type": "stream",
     "text": [
      "N = 1\n",
      "---- Accuracy ----\n",
      "Accuracy: 0.9954648526077098\n",
      "------------------\n",
      "--- Cross Validation Scores ---\n",
      "Cross-validated scores: [1. 1. 1. 1. 1.]\n",
      "Mean accuracy: 1.0\n",
      "Standard deviation: 0.0\n",
      "-------------------------------\n",
      "---- ROC AUC Score ----\n",
      "ROC AUC Score: 0.9858156028368794\n",
      "------------------------\n",
      "N = 2\n",
      "---- Accuracy ----\n",
      "Accuracy: 0.953514739229025\n",
      "------------------\n",
      "--- Cross Validation Scores ---\n",
      "Cross-validated scores: [1.         0.99886621 0.99886621 1.         1.        ]\n",
      "Mean accuracy: 0.9995464852607711\n",
      "Standard deviation: 0.0005554398509712247\n",
      "-------------------------------\n",
      "---- ROC AUC Score ----\n",
      "ROC AUC Score: 0.8546099290780143\n",
      "------------------------\n",
      "N = 3\n",
      "---- Accuracy ----\n",
      "Accuracy: 0.9229024943310657\n",
      "------------------\n",
      "--- Cross Validation Scores ---\n",
      "Cross-validated scores: [0.99886621 1.         1.         1.         1.        ]\n",
      "Mean accuracy: 0.9997732426303856\n",
      "Standard deviation: 0.00045351473922901065\n",
      "-------------------------------\n",
      "---- ROC AUC Score ----\n",
      "ROC AUC Score: 0.8392626410543544\n",
      "------------------------\n",
      "N = 4\n",
      "---- Accuracy ----\n",
      "Accuracy: 0.8650793650793651\n",
      "------------------\n",
      "--- Cross Validation Scores ---\n",
      "Cross-validated scores: [0.87868481 0.87981859 0.87755102 0.87301587 0.87981859]\n",
      "Mean accuracy: 0.8777777777777779\n",
      "Standard deviation: 0.0025250632030975216\n",
      "-------------------------------\n",
      "---- ROC AUC Score ----\n",
      "ROC AUC Score: 0.6182128808108651\n",
      "------------------------\n",
      "N = 5\n",
      "---- Accuracy ----\n",
      "Accuracy: 0.8310657596371882\n",
      "------------------\n",
      "--- Cross Validation Scores ---\n",
      "Cross-validated scores: [0.84920635 0.84920635 0.84353741 0.83673469 0.85600907]\n",
      "Mean accuracy: 0.846938775510204\n",
      "Standard deviation: 0.0064536278778946285\n",
      "-------------------------------\n",
      "---- ROC AUC Score ----\n",
      "ROC AUC Score: 0.6180693140379591\n",
      "------------------------\n",
      "N = 6\n",
      "---- Accuracy ----\n",
      "Accuracy: 0.8662131519274376\n",
      "------------------\n",
      "--- Cross Validation Scores ---\n",
      "Cross-validated scores: [0.87414966 0.8707483  0.86621315 0.86961451 0.8707483 ]\n",
      "Mean accuracy: 0.8702947845804987\n",
      "Standard deviation: 0.0025453451610706977\n",
      "-------------------------------\n",
      "---- ROC AUC Score ----\n",
      "ROC AUC Score: 0.6160163091854022\n",
      "------------------------\n",
      "N = 7\n",
      "---- Accuracy ----\n",
      "Accuracy: 0.8718820861678005\n",
      "------------------\n",
      "--- Cross Validation Scores ---\n",
      "Cross-validated scores: [0.88208617 0.87755102 0.86961451 0.87528345 0.87528345]\n",
      "Mean accuracy: 0.8759637188208617\n",
      "Standard deviation: 0.004030927173385765\n",
      "-------------------------------\n",
      "---- ROC AUC Score ----\n",
      "ROC AUC Score: 0.6366181410974243\n",
      "------------------------\n",
      "N = 8\n",
      "---- Accuracy ----\n",
      "Accuracy: 0.8582766439909297\n",
      "------------------\n",
      "--- Cross Validation Scores ---\n",
      "Cross-validated scores: [0.861678   0.86961451 0.85827664 0.85714286 0.85714286]\n",
      "Mean accuracy: 0.8607709750566894\n",
      "Standard deviation: 0.004723960692970459\n",
      "-------------------------------\n",
      "---- ROC AUC Score ----\n",
      "ROC AUC Score: 0.585450943233698\n",
      "------------------------\n",
      "N = 9\n",
      "---- Accuracy ----\n",
      "Accuracy: 0.8537414965986394\n",
      "------------------\n",
      "--- Cross Validation Scores ---\n",
      "Cross-validated scores: [0.85487528 0.86961451 0.84580499 0.85147392 0.85260771]\n",
      "Mean accuracy: 0.8548752834467119\n",
      "Standard deviation: 0.007952688397619137\n",
      "-------------------------------\n",
      "---- ROC AUC Score ----\n",
      "ROC AUC Score: 0.5913658942774284\n",
      "------------------------\n",
      "N = 10\n",
      "---- Accuracy ----\n",
      "Accuracy: 0.8469387755102041\n",
      "------------------\n",
      "--- Cross Validation Scores ---\n",
      "Cross-validated scores: [0.84920635 0.85147392 0.84807256 0.84353741 0.84920635]\n",
      "Mean accuracy: 0.8482993197278912\n",
      "Standard deviation: 0.0026249063271633006\n",
      "-------------------------------\n",
      "---- ROC AUC Score ----\n",
      "ROC AUC Score: 0.5557326212421396\n",
      "------------------------\n",
      "N = 11\n",
      "---- Accuracy ----\n",
      "Accuracy: 0.8378684807256236\n",
      "------------------\n",
      "--- Cross Validation Scores ---\n",
      "Cross-validated scores: [0.84807256 0.8537415  0.8446712  0.84240363 0.84920635]\n",
      "Mean accuracy: 0.8476190476190476\n",
      "Standard deviation: 0.0039012813002460775\n",
      "-------------------------------\n",
      "---- ROC AUC Score ----\n",
      "ROC AUC Score: 0.5532058460389927\n",
      "------------------------\n",
      "N = 12\n",
      "---- Accuracy ----\n",
      "Accuracy: 0.8503401360544217\n",
      "------------------\n",
      "--- Cross Validation Scores ---\n",
      "Cross-validated scores: [0.8537415  0.84807256 0.85147392 0.85260771 0.84580499]\n",
      "Mean accuracy: 0.8503401360544217\n",
      "Standard deviation: 0.0029565543787767033\n",
      "-------------------------------\n",
      "---- ROC AUC Score ----\n",
      "ROC AUC Score: 0.5577569127401154\n",
      "------------------------\n",
      "N = 13\n",
      "---- Accuracy ----\n",
      "Accuracy: 0.8492063492063492\n",
      "------------------\n",
      "--- Cross Validation Scores ---\n",
      "Cross-validated scores: [0.85147392 0.85034014 0.85260771 0.85260771 0.84807256]\n",
      "Mean accuracy: 0.8510204081632653\n",
      "Standard deviation: 0.0016968967740471329\n",
      "-------------------------------\n",
      "---- ROC AUC Score ----\n",
      "ROC AUC Score: 0.5599534843655785\n",
      "------------------------\n",
      "N = 14\n",
      "---- Accuracy ----\n",
      "Accuracy: 0.8469387755102041\n",
      "------------------\n",
      "--- Cross Validation Scores ---\n",
      "Cross-validated scores: [0.84807256 0.84693878 0.85034014 0.84693878 0.8446712 ]\n",
      "Mean accuracy: 0.8473922902494332\n",
      "Standard deviation: 0.0018421855792825055\n",
      "-------------------------------\n",
      "---- ROC AUC Score ----\n",
      "ROC AUC Score: 0.547118614867775\n",
      "------------------------\n",
      "N = 15\n",
      "---- Accuracy ----\n",
      "Accuracy: 0.8435374149659864\n",
      "------------------\n",
      "--- Cross Validation Scores ---\n",
      "Cross-validated scores: [0.84580499 0.84920635 0.85147392 0.84693878 0.84693878]\n",
      "Mean accuracy: 0.8480725623582768\n",
      "Standard deviation: 0.002028179571428379\n",
      "-------------------------------\n",
      "---- ROC AUC Score ----\n",
      "ROC AUC Score: 0.5479656588279208\n",
      "------------------------\n",
      "N = 16\n",
      "---- Accuracy ----\n",
      "Accuracy: 0.8492063492063492\n",
      "------------------\n",
      "--- Cross Validation Scores ---\n",
      "Cross-validated scores: [0.84580499 0.8446712  0.84240363 0.8446712  0.84240363]\n",
      "Mean accuracy: 0.8439909297052155\n",
      "Standard deviation: 0.0013605442176870838\n",
      "-------------------------------\n",
      "---- ROC AUC Score ----\n",
      "ROC AUC Score: 0.5484681425330922\n",
      "------------------------\n",
      "N = 17\n",
      "---- Accuracy ----\n",
      "Accuracy: 0.8480725623582767\n",
      "------------------\n",
      "--- Cross Validation Scores ---\n",
      "Cross-validated scores: [0.84353741 0.84353741 0.8446712  0.84693878 0.84126984]\n",
      "Mean accuracy: 0.8439909297052154\n",
      "Standard deviation: 0.0018421855792825409\n",
      "-------------------------------\n",
      "---- ROC AUC Score ----\n",
      "ROC AUC Score: 0.5506647141585551\n",
      "------------------------\n",
      "N = 18\n",
      "---- Accuracy ----\n",
      "Accuracy: 0.8514739229024944\n",
      "------------------\n",
      "--- Cross Validation Scores ---\n",
      "Cross-validated scores: [0.8446712  0.84126984 0.84240363 0.8446712  0.84013605]\n",
      "Mean accuracy: 0.8426303854875282\n",
      "Standard deviation: 0.0018140589569160925\n",
      "-------------------------------\n",
      "---- ROC AUC Score ----\n",
      "ROC AUC Score: 0.5469463347402876\n",
      "------------------------\n",
      "N = 19\n",
      "---- Accuracy ----\n",
      "Accuracy: 0.8514739229024944\n",
      "------------------\n",
      "--- Cross Validation Scores ---\n",
      "Cross-validated scores: [0.84807256 0.84240363 0.84240363 0.84580499 0.83900227]\n",
      "Mean accuracy: 0.8435374149659864\n",
      "Standard deviation: 0.003125634637662196\n",
      "-------------------------------\n",
      "---- ROC AUC Score ----\n",
      "ROC AUC Score: 0.5498176701984093\n",
      "------------------------\n"
     ]
    }
   ],
   "source": [
    "#Test for the best n_neighbors value\n",
    "for i in range(1,20):\n",
    "    knn_model = KNeighborsClassifier(n_neighbors=i)\n",
    "    knn_model.fit(X_train, y_train)\n",
    "\n",
    "    #Make predictions\n",
    "    y_pred = knn_model.predict(X_test)\n",
    "    stats_helper = StatisticsHelper(X, y, knn_model, y_test, y_pred)\n",
    "    print(f\"N = {i}\")\n",
    "    stats_helper.show_accuracy()\n",
    "    stats_helper.show_cross_val_score()\n",
    "    stats_helper.show_roc_auc_score()"
   ],
   "metadata": {
    "collapsed": false,
    "ExecuteTime": {
     "end_time": "2024-12-20T08:25:50.798825Z",
     "start_time": "2024-12-20T08:25:46.792035Z"
    }
   },
   "execution_count": 271
  },
  {
   "cell_type": "markdown",
   "source": [
    "##### It can be seen from the results above that N = 1,2,3 has the best results but is not reliable in a more varied dataset as it basically just picks the number next to it. N = 7 appears to reach a good result among the rest so that is that we will be using."
   ],
   "metadata": {
    "collapsed": false
   }
  },
  {
   "cell_type": "code",
   "outputs": [
    {
     "name": "stdout",
     "output_type": "stream",
     "text": [
      "---- Accuracy ----\n",
      "Accuracy: 0.8718820861678005\n",
      "------------------\n",
      "---- ROC AUC Score ----\n",
      "ROC AUC Score: 0.6366181410974243\n",
      "------------------------\n"
     ]
    },
    {
     "data": {
      "text/plain": "<Figure size 640x480 with 1 Axes>",
      "image/png": "[encoded data removed]"
     },
     "metadata": {},
     "output_type": "display_data"
    },
    {
     "name": "stdout",
     "output_type": "stream",
     "text": [
      "---- Classification Report ----\n",
      "              precision    recall  f1-score   support\n",
      "\n",
      "         0.0       0.88      0.98      0.93       741\n",
      "         1.0       0.76      0.29      0.42       141\n",
      "\n",
      "    accuracy                           0.87       882\n",
      "   macro avg       0.82      0.64      0.67       882\n",
      "weighted avg       0.86      0.87      0.85       882\n",
      "\n",
      "-------------------------------\n"
     ]
    },
    {
     "data": {
      "text/plain": "<Figure size 640x480 with 2 Axes>",
      "image/png": "[encoded data removed]"
     },
     "metadata": {},
     "output_type": "display_data"
    },
    {
     "name": "stdout",
     "output_type": "stream",
     "text": [
      "--- Cross Validation Scores ---\n",
      "Cross-validated scores: [0.88208617 0.87755102 0.86961451 0.87528345 0.87528345]\n",
      "Mean accuracy: 0.8759637188208617\n",
      "Standard deviation: 0.004030927173385765\n",
      "-------------------------------\n",
      "---- Regression Statistics ----\n",
      "Mean Squared Error: 0.12811791383219956\n",
      "R^2 Score: 0.046084934102851194\n",
      "-----------------------------\n"
     ]
    }
   ],
   "source": [
    "knn_model = KNeighborsClassifier(n_neighbors=7)\n",
    "knn_model.fit(X_train, y_train)\n",
    "\n",
    "# Make predictions\n",
    "y_pred = knn_model.predict(X_test)\n",
    "\n",
    "stats_helper = StatisticsHelper(X, y, knn_model, y_test, y_pred)\n",
    "stats_helper.show_all()"
   ],
   "metadata": {
    "collapsed": false,
    "ExecuteTime": {
     "end_time": "2024-12-20T08:25:51.231868Z",
     "start_time": "2024-12-20T08:25:50.798825Z"
    }
   },
   "execution_count": 272
  },
  {
   "cell_type": "markdown",
   "source": [
    "#### *Support Vector Machine*"
   ],
   "metadata": {
    "collapsed": false
   }
  },
  {
   "cell_type": "code",
   "outputs": [],
   "source": [
    "import pandas as pd\n",
    "from sklearn.model_selection import train_test_split, GridSearchCV \n",
    "from sklearn.svm import SVC\n",
    "from models.statistics_helper import StatisticsHelper\n",
    "\n",
    "#Load the data\n",
    "full_employee_data: pd.DataFrame = pd.read_csv('full_employee_data_cleaned.csv')\n",
    "\n",
    "#Prepare the data\n",
    "target_column = 'Attrition'\n",
    "#Replace 'target_column' with the actual name of the target column\n",
    "X = full_employee_data.drop(target_column, axis=1)\n",
    "y = full_employee_data[target_column]\n",
    "\n",
    "#Split the data into training and testing sets\n",
    "X_train, X_test, y_train, y_test = train_test_split(X, y, test_size=0.2, shuffle=True, random_state=42)"
   ],
   "metadata": {
    "collapsed": false,
    "ExecuteTime": {
     "end_time": "2024-12-20T08:25:51.251964Z",
     "start_time": "2024-12-20T08:25:51.231868Z"
    }
   },
   "execution_count": 273
  },
  {
   "cell_type": "markdown",
   "source": [
    "##### Performing Grid Search will help us find optimal parameters to be used for the Support Vector Machine (SVM)"
   ],
   "metadata": {
    "collapsed": false
   }
  },
  {
   "cell_type": "code",
   "outputs": [
    {
     "name": "stdout",
     "output_type": "stream",
     "text": [
      "Fitting 5 folds for each of 16 candidates, totalling 80 fits\n",
      "Best Parameters: {'C': 10, 'gamma': 0.1, 'kernel': 'rbf'}\n",
      "Best Cross-Validation Score: 0.8931388503807284\n"
     ]
    }
   ],
   "source": [
    "param_grid = {\n",
    "    'C': [1, 10],\n",
    "    'kernel': ['linear', 'rbf', 'poly', 'sigmoid'],\n",
    "    'gamma': [0.01, 0.1]\n",
    "}\n",
    "\n",
    "svm = SVC(random_state=42)\n",
    "\n",
    "grid_search = GridSearchCV(estimator=svm, param_grid=param_grid, cv=5, verbose=1, scoring='accuracy')\n",
    "grid_search.fit(X_train, y_train)\n",
    "\n",
    "# Display the best parameters and score\n",
    "print(\"Best Parameters:\", grid_search.best_params_)\n",
    "print(\"Best Cross-Validation Score:\", grid_search.best_score_)"
   ],
   "metadata": {
    "collapsed": false,
    "ExecuteTime": {
     "end_time": "2024-12-20T08:26:03.336505Z",
     "start_time": "2024-12-20T08:25:51.252969Z"
    }
   },
   "execution_count": 274
  },
  {
   "cell_type": "markdown",
   "source": [
    "##### The parameters give above were chosen after some trial and error. C values below 1 and above 10 were insignificant or redundent. Gamma values below 0.01 would lead to minimal learning of the negatives and above 0.1 would lead to clear overfitting. Hence among the given values, the best model was found."
   ],
   "metadata": {
    "collapsed": false
   }
  },
  {
   "cell_type": "code",
   "outputs": [
    {
     "name": "stdout",
     "output_type": "stream",
     "text": [
      "---- Accuracy ----\n",
      "Accuracy: 0.9036281179138322\n",
      "------------------\n",
      "---- ROC AUC Score ----\n",
      "ROC AUC Score: 0.7359089212392682\n",
      "------------------------\n"
     ]
    },
    {
     "data": {
      "text/plain": "<Figure size 640x480 with 1 Axes>",
      "image/png": "[encoded data removed]"
     },
     "metadata": {},
     "output_type": "display_data"
    },
    {
     "name": "stdout",
     "output_type": "stream",
     "text": [
      "---- Classification Report ----\n",
      "              precision    recall  f1-score   support\n",
      "\n",
      "         0.0       0.91      0.98      0.94       741\n",
      "         1.0       0.84      0.49      0.62       141\n",
      "\n",
      "    accuracy                           0.90       882\n",
      "   macro avg       0.88      0.74      0.78       882\n",
      "weighted avg       0.90      0.90      0.89       882\n",
      "\n",
      "-------------------------------\n"
     ]
    },
    {
     "data": {
      "text/plain": "<Figure size 640x480 with 2 Axes>",
      "image/png": "[encoded data removed]"
     },
     "metadata": {},
     "output_type": "display_data"
    },
    {
     "name": "stdout",
     "output_type": "stream",
     "text": [
      "--- Cross Validation Scores ---\n",
      "Cross-validated scores: [0.91496599 0.91723356 0.92176871 0.91269841 0.91836735]\n",
      "Mean accuracy: 0.9170068027210885\n",
      "Standard deviation: 0.003075886613662266\n",
      "-------------------------------\n",
      "---- Regression Statistics ----\n",
      "Mean Squared Error: 0.0963718820861678\n",
      "R^2 Score: 0.282453269015419\n",
      "-----------------------------\n"
     ]
    }
   ],
   "source": [
    "svm_model = grid_search.best_estimator_\n",
    "svm_model.fit(X_train, y_train)\n",
    "\n",
    "# Make predictions\n",
    "y_pred = svm_model.predict(X_test)\n",
    "\n",
    "stats_helper = StatisticsHelper(X, y, svm_model, y_test, y_pred)\n",
    "stats_helper.show_all()"
   ],
   "metadata": {
    "collapsed": false,
    "ExecuteTime": {
     "end_time": "2024-12-20T08:26:05.172956Z",
     "start_time": "2024-12-20T08:26:03.337511Z"
    }
   },
   "execution_count": 275
  }
 ]
}
