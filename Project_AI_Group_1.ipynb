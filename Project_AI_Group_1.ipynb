{
 "nbformat": 4,
 "nbformat_minor": 0,
 "metadata": {
  "colab": {
   "provenance": []
  },
  "kernelspec": {
   "name": "python3",
   "language": "python",
   "display_name": "Python 3 (ipykernel)"
  },
  "language_info": {
   "name": "python"
  }
 },
 "cells": [
  {
   "cell_type": "code",
   "source": [
    "import pandas as pd\n",
    "import numpy as np\n",
    "import matplotlib.pyplot as plt"
   ],
   "metadata": {
    "id": "lVFYaugeLQiE",
    "ExecuteTime": {
     "end_time": "2024-12-17T08:27:28.395358Z",
     "start_time": "2024-12-17T08:27:28.391987Z"
    }
   },
   "execution_count": 42,
   "outputs": []
  },
  {
   "cell_type": "code",
   "source": [
    "full_employee_data: pd.DataFrame = pd.DataFrame()"
   ],
   "metadata": {
    "id": "Dg2ybgF8LpMd",
    "ExecuteTime": {
     "end_time": "2024-12-17T08:27:28.407957Z",
     "start_time": "2024-12-17T08:27:28.404687Z"
    }
   },
   "execution_count": 43,
   "outputs": []
  },
  {
   "cell_type": "code",
   "outputs": [],
   "source": [
    "def load_employee_data():\n",
    "    global full_employee_data\n",
    "\n",
    "    general_data = pd.read_csv('datasets/general_data.csv')\n",
    "    employee_survey_data = pd.read_csv('datasets/employee_survey_data.csv')\n",
    "    manager_survey_data = pd.read_csv('datasets/manager_survey_data.csv')\n",
    "\n",
    "    full_employee_data = general_data.merge(employee_survey_data, on='EmployeeID')\n",
    "    full_employee_data = full_employee_data.merge(manager_survey_data, on='EmployeeID')"
   ],
   "metadata": {
    "collapsed": false,
    "ExecuteTime": {
     "end_time": "2024-12-17T08:27:28.411820Z",
     "start_time": "2024-12-17T08:27:28.408968Z"
    }
   },
   "execution_count": 44
  },
  {
   "cell_type": "code",
   "outputs": [],
   "source": [
    "load_employee_data()"
   ],
   "metadata": {
    "collapsed": false,
    "ExecuteTime": {
     "end_time": "2024-12-17T08:27:28.428421Z",
     "start_time": "2024-12-17T08:27:28.412774Z"
    }
   },
   "execution_count": 45
  },
  {
   "cell_type": "code",
   "source": [
    "def create_working_time_columns():\n",
    "    \"\"\"\n",
    "        Process in_time.csv and out_time.csv data to create working time columns in the general_data dataframe\n",
    "    \"\"\"\n",
    "    global full_employee_data\n",
    "    in_time: pd.DataFrame = pd.read_csv('datasets/in_time.csv').astype('datetime64[s]')\n",
    "    out_time = pd.read_csv('datasets/out_time.csv').astype('datetime64[s]')\n",
    "\n",
    "    average: pd.DataFrame = (out_time - in_time)\n",
    "\n",
    "    # Convert to hours\n",
    "    average = average.loc[:, :] / np.timedelta64(1, 'h')\n",
    "\n",
    "    working_time_df = pd.DataFrame()\n",
    "\n",
    "    # Create a column EmployeeID\n",
    "    working_time_df['EmployeeID'] = in_time.iloc[:, 0]\n",
    "    working_time_df['EmployeeID'] = working_time_df['EmployeeID'].astype('int64')\n",
    "\n",
    "    # Create a column min and max\n",
    "    working_time_df['AverageArrivalTime'] = in_time.iloc[:, 1:].mean(axis=1)\n",
    "    working_time_df['AverageDepartureTime'] = out_time.iloc[:, 1:].max(axis=1)\n",
    "\n",
    "    # Create a column average\n",
    "    working_time_df['AverageWorkingTime'] = average.mean(axis=1).round(2)\n",
    "\n",
    "    # Merge the working time data with the general data\n",
    "    full_employee_data = full_employee_data.merge(working_time_df, on='EmployeeID')\n",
    "\n",
    "\n",
    "create_working_time_columns()"
   ],
   "metadata": {
    "id": "6lBththSLTWO",
    "ExecuteTime": {
     "end_time": "2024-12-17T08:27:30.560731Z",
     "start_time": "2024-12-17T08:27:28.429426Z"
    }
   },
   "execution_count": 46,
   "outputs": []
  },
  {
   "cell_type": "code",
   "source": [
    "full_employee_data.head()"
   ],
   "metadata": {
    "id": "u_5C4ygULVOL",
    "ExecuteTime": {
     "end_time": "2024-12-17T08:27:30.572520Z",
     "start_time": "2024-12-17T08:27:30.560731Z"
    }
   },
   "execution_count": 47,
   "outputs": [
    {
     "data": {
      "text/plain": "   Age Attrition     BusinessTravel              Department  DistanceFromHome  \\\n0   51        No      Travel_Rarely                   Sales                 6   \n1   31       Yes  Travel_Frequently  Research & Development                10   \n2   32        No  Travel_Frequently  Research & Development                17   \n3   38        No         Non-Travel  Research & Development                 2   \n4   32        No      Travel_Rarely  Research & Development                10   \n\n   Education EducationField  EmployeeCount  EmployeeID  Gender  ...  \\\n0          2  Life Sciences              1           1  Female  ...   \n1          1  Life Sciences              1           2  Female  ...   \n2          4          Other              1           3    Male  ...   \n3          5  Life Sciences              1           4    Male  ...   \n4          1        Medical              1           5    Male  ...   \n\n   YearsSinceLastPromotion YearsWithCurrManager EnvironmentSatisfaction  \\\n0                        0                    0                     3.0   \n1                        1                    4                     3.0   \n2                        0                    3                     2.0   \n3                        7                    5                     4.0   \n4                        0                    4                     4.0   \n\n   JobSatisfaction  WorkLifeBalance JobInvolvement  PerformanceRating  \\\n0              4.0              2.0              3                  3   \n1              2.0              4.0              2                  4   \n2              2.0              1.0              3                  3   \n3              4.0              3.0              2                  3   \n4              1.0              3.0              3                  3   \n\n   AverageArrivalTime  AverageDepartureTime  AverageWorkingTime  \n0 2015-07-01 20:02:09   2015-12-31 17:17:33                7.34  \n1 2015-07-02 21:34:52   2015-12-31 17:40:58                7.69  \n2 2015-07-02 07:38:41   2015-12-31 17:15:50                6.98  \n3 2015-07-02 14:53:02   2015-12-31 17:09:14                7.16  \n4 2015-07-03 11:04:33   2015-12-31 17:42:14                7.97  \n\n[5 rows x 32 columns]",
      "text/html": "<div>\n<style scoped>\n    .dataframe tbody tr th:only-of-type {\n        vertical-align: middle;\n    }\n\n    .dataframe tbody tr th {\n        vertical-align: top;\n    }\n\n    .dataframe thead th {\n        text-align: right;\n    }\n</style>\n<table border=\"1\" class=\"dataframe\">\n  <thead>\n    <tr style=\"text-align: right;\">\n      <th></th>\n      <th>Age</th>\n      <th>Attrition</th>\n      <th>BusinessTravel</th>\n      <th>Department</th>\n      <th>DistanceFromHome</th>\n      <th>Education</th>\n      <th>EducationField</th>\n      <th>EmployeeCount</th>\n      <th>EmployeeID</th>\n      <th>Gender</th>\n      <th>...</th>\n      <th>YearsSinceLastPromotion</th>\n      <th>YearsWithCurrManager</th>\n      <th>EnvironmentSatisfaction</th>\n      <th>JobSatisfaction</th>\n      <th>WorkLifeBalance</th>\n      <th>JobInvolvement</th>\n      <th>PerformanceRating</th>\n      <th>AverageArrivalTime</th>\n      <th>AverageDepartureTime</th>\n      <th>AverageWorkingTime</th>\n    </tr>\n  </thead>\n  <tbody>\n    <tr>\n      <th>0</th>\n      <td>51</td>\n      <td>No</td>\n      <td>Travel_Rarely</td>\n      <td>Sales</td>\n      <td>6</td>\n      <td>2</td>\n      <td>Life Sciences</td>\n      <td>1</td>\n      <td>1</td>\n      <td>Female</td>\n      <td>...</td>\n      <td>0</td>\n      <td>0</td>\n      <td>3.0</td>\n      <td>4.0</td>\n      <td>2.0</td>\n      <td>3</td>\n      <td>3</td>\n      <td>2015-07-01 20:02:09</td>\n      <td>2015-12-31 17:17:33</td>\n      <td>7.34</td>\n    </tr>\n    <tr>\n      <th>1</th>\n      <td>31</td>\n      <td>Yes</td>\n      <td>Travel_Frequently</td>\n      <td>Research &amp; Development</td>\n      <td>10</td>\n      <td>1</td>\n      <td>Life Sciences</td>\n      <td>1</td>\n      <td>2</td>\n      <td>Female</td>\n      <td>...</td>\n      <td>1</td>\n      <td>4</td>\n      <td>3.0</td>\n      <td>2.0</td>\n      <td>4.0</td>\n      <td>2</td>\n      <td>4</td>\n      <td>2015-07-02 21:34:52</td>\n      <td>2015-12-31 17:40:58</td>\n      <td>7.69</td>\n    </tr>\n    <tr>\n      <th>2</th>\n      <td>32</td>\n      <td>No</td>\n      <td>Travel_Frequently</td>\n      <td>Research &amp; Development</td>\n      <td>17</td>\n      <td>4</td>\n      <td>Other</td>\n      <td>1</td>\n      <td>3</td>\n      <td>Male</td>\n      <td>...</td>\n      <td>0</td>\n      <td>3</td>\n      <td>2.0</td>\n      <td>2.0</td>\n      <td>1.0</td>\n      <td>3</td>\n      <td>3</td>\n      <td>2015-07-02 07:38:41</td>\n      <td>2015-12-31 17:15:50</td>\n      <td>6.98</td>\n    </tr>\n    <tr>\n      <th>3</th>\n      <td>38</td>\n      <td>No</td>\n      <td>Non-Travel</td>\n      <td>Research &amp; Development</td>\n      <td>2</td>\n      <td>5</td>\n      <td>Life Sciences</td>\n      <td>1</td>\n      <td>4</td>\n      <td>Male</td>\n      <td>...</td>\n      <td>7</td>\n      <td>5</td>\n      <td>4.0</td>\n      <td>4.0</td>\n      <td>3.0</td>\n      <td>2</td>\n      <td>3</td>\n      <td>2015-07-02 14:53:02</td>\n      <td>2015-12-31 17:09:14</td>\n      <td>7.16</td>\n    </tr>\n    <tr>\n      <th>4</th>\n      <td>32</td>\n      <td>No</td>\n      <td>Travel_Rarely</td>\n      <td>Research &amp; Development</td>\n      <td>10</td>\n      <td>1</td>\n      <td>Medical</td>\n      <td>1</td>\n      <td>5</td>\n      <td>Male</td>\n      <td>...</td>\n      <td>0</td>\n      <td>4</td>\n      <td>4.0</td>\n      <td>1.0</td>\n      <td>3.0</td>\n      <td>3</td>\n      <td>3</td>\n      <td>2015-07-03 11:04:33</td>\n      <td>2015-12-31 17:42:14</td>\n      <td>7.97</td>\n    </tr>\n  </tbody>\n</table>\n<p>5 rows × 32 columns</p>\n</div>"
     },
     "execution_count": 47,
     "metadata": {},
     "output_type": "execute_result"
    }
   ]
  },
  {
   "cell_type": "code",
   "source": [
    "full_employee_data.describe()"
   ],
   "metadata": {
    "id": "M_tspAxVLWCL",
    "ExecuteTime": {
     "end_time": "2024-12-17T08:27:30.607634Z",
     "start_time": "2024-12-17T08:27:30.573526Z"
    }
   },
   "execution_count": 48,
   "outputs": [
    {
     "data": {
      "text/plain": "               Age  DistanceFromHome    Education  EmployeeCount   EmployeeID  \\\ncount  4410.000000       4410.000000  4410.000000         4410.0  4410.000000   \nmean     36.923810          9.192517     2.912925            1.0  2205.500000   \nmin      18.000000          1.000000     1.000000            1.0     1.000000   \n25%      30.000000          2.000000     2.000000            1.0  1103.250000   \n50%      36.000000          7.000000     3.000000            1.0  2205.500000   \n75%      43.000000         14.000000     4.000000            1.0  3307.750000   \nmax      60.000000         29.000000     5.000000            1.0  4410.000000   \nstd       9.133301          8.105026     1.023933            0.0  1273.201673   \n\n          JobLevel  MonthlyIncome  NumCompaniesWorked  PercentSalaryHike  \\\ncount  4410.000000    4410.000000         4391.000000        4410.000000   \nmean      2.063946   65029.312925            2.694830          15.209524   \nmin       1.000000   10090.000000            0.000000          11.000000   \n25%       1.000000   29110.000000            1.000000          12.000000   \n50%       2.000000   49190.000000            2.000000          14.000000   \n75%       3.000000   83800.000000            4.000000          18.000000   \nmax       5.000000  199990.000000            9.000000          25.000000   \nstd       1.106689   47068.888559            2.498887           3.659108   \n\n       StandardHours  ...  YearsSinceLastPromotion  YearsWithCurrManager  \\\ncount         4410.0  ...              4410.000000           4410.000000   \nmean             8.0  ...                 2.187755              4.123129   \nmin              8.0  ...                 0.000000              0.000000   \n25%              8.0  ...                 0.000000              2.000000   \n50%              8.0  ...                 1.000000              3.000000   \n75%              8.0  ...                 3.000000              7.000000   \nmax              8.0  ...                15.000000             17.000000   \nstd              0.0  ...                 3.221699              3.567327   \n\n       EnvironmentSatisfaction  JobSatisfaction  WorkLifeBalance  \\\ncount              4385.000000      4390.000000      4372.000000   \nmean                  2.723603         2.728246         2.761436   \nmin                   1.000000         1.000000         1.000000   \n25%                   2.000000         2.000000         2.000000   \n50%                   3.000000         3.000000         3.000000   \n75%                   4.000000         4.000000         3.000000   \nmax                   4.000000         4.000000         4.000000   \nstd                   1.092756         1.101253         0.706245   \n\n       JobInvolvement  PerformanceRating   AverageArrivalTime  \\\ncount     4410.000000        4410.000000                 4410   \nmean         2.729932           3.153741  2015-07-02 13:33:37   \nmin          1.000000           3.000000  2015-06-25 23:23:58   \n25%          2.000000           3.000000  2015-07-01 14:22:27   \n50%          3.000000           3.000000  2015-07-02 13:04:22   \n75%          3.000000           3.000000  2015-07-03 13:10:49   \nmax          4.000000           4.000000  2015-07-08 15:12:23   \nstd          0.711400           0.360742                  NaN   \n\n       AverageDepartureTime  AverageWorkingTime  \ncount                  4410         4410.000000  \nmean    2015-12-31 16:26:48            7.668308  \nmin     2015-12-28 16:23:16            5.920000  \n25%     2015-12-31 16:31:33            6.642500  \n50%     2015-12-31 17:19:53            7.380000  \n75%     2015-12-31 18:18:57            8.330000  \nmax     2015-12-31 21:56:13           10.980000  \nstd                     NaN            1.334767  \n\n[8 rows x 24 columns]",
      "text/html": "<div>\n<style scoped>\n    .dataframe tbody tr th:only-of-type {\n        vertical-align: middle;\n    }\n\n    .dataframe tbody tr th {\n        vertical-align: top;\n    }\n\n    .dataframe thead th {\n        text-align: right;\n    }\n</style>\n<table border=\"1\" class=\"dataframe\">\n  <thead>\n    <tr style=\"text-align: right;\">\n      <th></th>\n      <th>Age</th>\n      <th>DistanceFromHome</th>\n      <th>Education</th>\n      <th>EmployeeCount</th>\n      <th>EmployeeID</th>\n      <th>JobLevel</th>\n      <th>MonthlyIncome</th>\n      <th>NumCompaniesWorked</th>\n      <th>PercentSalaryHike</th>\n      <th>StandardHours</th>\n      <th>...</th>\n      <th>YearsSinceLastPromotion</th>\n      <th>YearsWithCurrManager</th>\n      <th>EnvironmentSatisfaction</th>\n      <th>JobSatisfaction</th>\n      <th>WorkLifeBalance</th>\n      <th>JobInvolvement</th>\n      <th>PerformanceRating</th>\n      <th>AverageArrivalTime</th>\n      <th>AverageDepartureTime</th>\n      <th>AverageWorkingTime</th>\n    </tr>\n  </thead>\n  <tbody>\n    <tr>\n      <th>count</th>\n      <td>4410.000000</td>\n      <td>4410.000000</td>\n      <td>4410.000000</td>\n      <td>4410.0</td>\n      <td>4410.000000</td>\n      <td>4410.000000</td>\n      <td>4410.000000</td>\n      <td>4391.000000</td>\n      <td>4410.000000</td>\n      <td>4410.0</td>\n      <td>...</td>\n      <td>4410.000000</td>\n      <td>4410.000000</td>\n      <td>4385.000000</td>\n      <td>4390.000000</td>\n      <td>4372.000000</td>\n      <td>4410.000000</td>\n      <td>4410.000000</td>\n      <td>4410</td>\n      <td>4410</td>\n      <td>4410.000000</td>\n    </tr>\n    <tr>\n      <th>mean</th>\n      <td>36.923810</td>\n      <td>9.192517</td>\n      <td>2.912925</td>\n      <td>1.0</td>\n      <td>2205.500000</td>\n      <td>2.063946</td>\n      <td>65029.312925</td>\n      <td>2.694830</td>\n      <td>15.209524</td>\n      <td>8.0</td>\n      <td>...</td>\n      <td>2.187755</td>\n      <td>4.123129</td>\n      <td>2.723603</td>\n      <td>2.728246</td>\n      <td>2.761436</td>\n      <td>2.729932</td>\n      <td>3.153741</td>\n      <td>2015-07-02 13:33:37</td>\n      <td>2015-12-31 16:26:48</td>\n      <td>7.668308</td>\n    </tr>\n    <tr>\n      <th>min</th>\n      <td>18.000000</td>\n      <td>1.000000</td>\n      <td>1.000000</td>\n      <td>1.0</td>\n      <td>1.000000</td>\n      <td>1.000000</td>\n      <td>10090.000000</td>\n      <td>0.000000</td>\n      <td>11.000000</td>\n      <td>8.0</td>\n      <td>...</td>\n      <td>0.000000</td>\n      <td>0.000000</td>\n      <td>1.000000</td>\n      <td>1.000000</td>\n      <td>1.000000</td>\n      <td>1.000000</td>\n      <td>3.000000</td>\n      <td>2015-06-25 23:23:58</td>\n      <td>2015-12-28 16:23:16</td>\n      <td>5.920000</td>\n    </tr>\n    <tr>\n      <th>25%</th>\n      <td>30.000000</td>\n      <td>2.000000</td>\n      <td>2.000000</td>\n      <td>1.0</td>\n      <td>1103.250000</td>\n      <td>1.000000</td>\n      <td>29110.000000</td>\n      <td>1.000000</td>\n      <td>12.000000</td>\n      <td>8.0</td>\n      <td>...</td>\n      <td>0.000000</td>\n      <td>2.000000</td>\n      <td>2.000000</td>\n      <td>2.000000</td>\n      <td>2.000000</td>\n      <td>2.000000</td>\n      <td>3.000000</td>\n      <td>2015-07-01 14:22:27</td>\n      <td>2015-12-31 16:31:33</td>\n      <td>6.642500</td>\n    </tr>\n    <tr>\n      <th>50%</th>\n      <td>36.000000</td>\n      <td>7.000000</td>\n      <td>3.000000</td>\n      <td>1.0</td>\n      <td>2205.500000</td>\n      <td>2.000000</td>\n      <td>49190.000000</td>\n      <td>2.000000</td>\n      <td>14.000000</td>\n      <td>8.0</td>\n      <td>...</td>\n      <td>1.000000</td>\n      <td>3.000000</td>\n      <td>3.000000</td>\n      <td>3.000000</td>\n      <td>3.000000</td>\n      <td>3.000000</td>\n      <td>3.000000</td>\n      <td>2015-07-02 13:04:22</td>\n      <td>2015-12-31 17:19:53</td>\n      <td>7.380000</td>\n    </tr>\n    <tr>\n      <th>75%</th>\n      <td>43.000000</td>\n      <td>14.000000</td>\n      <td>4.000000</td>\n      <td>1.0</td>\n      <td>3307.750000</td>\n      <td>3.000000</td>\n      <td>83800.000000</td>\n      <td>4.000000</td>\n      <td>18.000000</td>\n      <td>8.0</td>\n      <td>...</td>\n      <td>3.000000</td>\n      <td>7.000000</td>\n      <td>4.000000</td>\n      <td>4.000000</td>\n      <td>3.000000</td>\n      <td>3.000000</td>\n      <td>3.000000</td>\n      <td>2015-07-03 13:10:49</td>\n      <td>2015-12-31 18:18:57</td>\n      <td>8.330000</td>\n    </tr>\n    <tr>\n      <th>max</th>\n      <td>60.000000</td>\n      <td>29.000000</td>\n      <td>5.000000</td>\n      <td>1.0</td>\n      <td>4410.000000</td>\n      <td>5.000000</td>\n      <td>199990.000000</td>\n      <td>9.000000</td>\n      <td>25.000000</td>\n      <td>8.0</td>\n      <td>...</td>\n      <td>15.000000</td>\n      <td>17.000000</td>\n      <td>4.000000</td>\n      <td>4.000000</td>\n      <td>4.000000</td>\n      <td>4.000000</td>\n      <td>4.000000</td>\n      <td>2015-07-08 15:12:23</td>\n      <td>2015-12-31 21:56:13</td>\n      <td>10.980000</td>\n    </tr>\n    <tr>\n      <th>std</th>\n      <td>9.133301</td>\n      <td>8.105026</td>\n      <td>1.023933</td>\n      <td>0.0</td>\n      <td>1273.201673</td>\n      <td>1.106689</td>\n      <td>47068.888559</td>\n      <td>2.498887</td>\n      <td>3.659108</td>\n      <td>0.0</td>\n      <td>...</td>\n      <td>3.221699</td>\n      <td>3.567327</td>\n      <td>1.092756</td>\n      <td>1.101253</td>\n      <td>0.706245</td>\n      <td>0.711400</td>\n      <td>0.360742</td>\n      <td>NaN</td>\n      <td>NaN</td>\n      <td>1.334767</td>\n    </tr>\n  </tbody>\n</table>\n<p>8 rows × 24 columns</p>\n</div>"
     },
     "execution_count": 48,
     "metadata": {},
     "output_type": "execute_result"
    }
   ]
  },
  {
   "cell_type": "code",
   "source": [
    "# EmployeeCount : All values are 1\n",
    "# Over18 : All values are 'Y'\n",
    "# StandardHours : All values are 8\n",
    "full_employee_data = full_employee_data.drop(['EmployeeCount', 'Over18', 'StandardHours'], axis=1)"
   ],
   "metadata": {
    "id": "19EL-sYBLWvR",
    "ExecuteTime": {
     "end_time": "2024-12-17T08:27:30.612001Z",
     "start_time": "2024-12-17T08:27:30.608138Z"
    }
   },
   "execution_count": 49,
   "outputs": []
  },
  {
   "cell_type": "code",
   "source": [
    "#Encoding\n",
    "cat_data = ['Attrition', 'Gender', 'Department', 'BusinessTravel', 'EducationField', 'JobRole', 'MaritalStatus']\n",
    "for i in cat_data:\n",
    "    vals = pd.get_dummies(full_employee_data[i], sparse=True)\n",
    "    full_employee_data = pd.concat([full_employee_data, vals], axis=1)"
   ],
   "metadata": {
    "id": "VjBcyvMULXiP",
    "ExecuteTime": {
     "end_time": "2024-12-17T08:27:30.635263Z",
     "start_time": "2024-12-17T08:27:30.613005Z"
    }
   },
   "execution_count": 50,
   "outputs": []
  },
  {
   "cell_type": "code",
   "source": [
    "full_employee_data = full_employee_data.drop(['Attrition', 'Gender', 'Department', 'BusinessTravel', 'EducationField', 'JobRole', 'MaritalStatus'], axis=1)"
   ],
   "metadata": {
    "id": "SsA58fOwLYVb",
    "ExecuteTime": {
     "end_time": "2024-12-17T08:27:30.640412Z",
     "start_time": "2024-12-17T08:27:30.636269Z"
    }
   },
   "execution_count": 51,
   "outputs": []
  },
  {
   "cell_type": "code",
   "source": [
    "full_employee_data.to_csv('cleaned_data.csv', index=False)"
   ],
   "metadata": {
    "id": "uerapzwVLZPb",
    "ExecuteTime": {
     "end_time": "2024-12-17T08:27:30.705150Z",
     "start_time": "2024-12-17T08:27:30.640412Z"
    }
   },
   "execution_count": 52,
   "outputs": []
  },
  {
   "cell_type": "code",
   "source": [
    "#Imputation\n",
    "from sklearn.impute import SimpleImputer\n",
    "\n",
    "imputer = SimpleImputer(strategy='median')\n",
    "for i in full_employee_data.columns:\n",
    "    full_employee_data[i] = imputer.fit_transform(full_employee_data[[i]])\n",
    "\n",
    "print(full_employee_data.isnull().sum())"
   ],
   "metadata": {
    "id": "JKtP8PjoLaVY",
    "ExecuteTime": {
     "end_time": "2024-12-17T08:27:30.808010Z",
     "start_time": "2024-12-17T08:27:30.706155Z"
    }
   },
   "execution_count": 53,
   "outputs": [
    {
     "name": "stdout",
     "output_type": "stream",
     "text": [
      "Age                          0\n",
      "DistanceFromHome             0\n",
      "Education                    0\n",
      "EmployeeID                   0\n",
      "JobLevel                     0\n",
      "MonthlyIncome                0\n",
      "NumCompaniesWorked           0\n",
      "PercentSalaryHike            0\n",
      "StockOptionLevel             0\n",
      "TotalWorkingYears            0\n",
      "TrainingTimesLastYear        0\n",
      "YearsAtCompany               0\n",
      "YearsSinceLastPromotion      0\n",
      "YearsWithCurrManager         0\n",
      "EnvironmentSatisfaction      0\n",
      "JobSatisfaction              0\n",
      "WorkLifeBalance              0\n",
      "JobInvolvement               0\n",
      "PerformanceRating            0\n",
      "AverageArrivalTime           0\n",
      "AverageDepartureTime         0\n",
      "AverageWorkingTime           0\n",
      "No                           0\n",
      "Yes                          0\n",
      "Female                       0\n",
      "Male                         0\n",
      "Human Resources              0\n",
      "Research & Development       0\n",
      "Sales                        0\n",
      "Non-Travel                   0\n",
      "Travel_Frequently            0\n",
      "Travel_Rarely                0\n",
      "Human Resources              0\n",
      "Life Sciences                0\n",
      "Marketing                    0\n",
      "Medical                      0\n",
      "Other                        0\n",
      "Technical Degree             0\n",
      "Healthcare Representative    0\n",
      "Human Resources              0\n",
      "Laboratory Technician        0\n",
      "Manager                      0\n",
      "Manufacturing Director       0\n",
      "Research Director            0\n",
      "Research Scientist           0\n",
      "Sales Executive              0\n",
      "Sales Representative         0\n",
      "Divorced                     0\n",
      "Married                      0\n",
      "Single                       0\n",
      "dtype: int64\n"
     ]
    }
   ]
  },
  {
   "cell_type": "code",
   "source": [
    "#Scaling\n",
    "from sklearn.preprocessing import MinMaxScaler\n",
    "\n",
    "scaler = MinMaxScaler()\n",
    "for i in full_employee_data.columns:\n",
    "    full_employee_data[i] = scaler.fit_transform(full_employee_data[[i]])\n",
    "full_employee_data"
   ],
   "metadata": {
    "id": "qNPFmGZ3Lbfw",
    "ExecuteTime": {
     "end_time": "2024-12-17T08:27:30.895208Z",
     "start_time": "2024-12-17T08:27:30.809018Z"
    }
   },
   "execution_count": 54,
   "outputs": [
    {
     "data": {
      "text/plain": "           Age  DistanceFromHome  Education  EmployeeID  JobLevel  \\\n0     0.785714          0.178571       0.25    0.000000      0.00   \n1     0.309524          0.321429       0.00    0.000227      0.00   \n2     0.333333          0.571429       0.75    0.000454      0.75   \n3     0.476190          0.035714       1.00    0.000680      0.50   \n4     0.333333          0.321429       0.00    0.000907      0.00   \n...        ...               ...        ...         ...       ...   \n4405  0.571429          0.142857       0.75    0.999093      0.00   \n4406  0.261905          0.035714       0.75    0.999320      0.00   \n4407  0.166667          0.857143       0.25    0.999546      0.25   \n4408  0.571429          0.607143       0.25    0.999773      0.00   \n4409  0.523810          0.964286       0.50    1.000000      0.25   \n\n      MonthlyIncome  NumCompaniesWorked  PercentSalaryHike  StockOptionLevel  \\\n0          0.637546            0.111111           0.000000          0.000000   \n1          0.167457            0.000000           0.857143          0.333333   \n2          0.964666            0.111111           0.285714          1.000000   \n3          0.385045            0.333333           0.000000          1.000000   \n4          0.070195            0.444444           0.071429          0.666667   \n...             ...                 ...                ...               ...   \n4405       0.264350            0.333333           0.428571          0.333333   \n4406       0.087941            0.222222           0.285714          0.000000   \n4407       0.141811            0.000000           0.642857          0.000000   \n4408       0.073144            0.000000           0.214286          0.333333   \n4409       0.234808            0.000000           0.071429          0.000000   \n\n      TotalWorkingYears  ...  Laboratory Technician  Manager  \\\n0                 0.025  ...                    0.0      0.0   \n1                 0.150  ...                    0.0      0.0   \n2                 0.125  ...                    0.0      0.0   \n3                 0.325  ...                    0.0      0.0   \n4                 0.225  ...                    0.0      0.0   \n...                 ...  ...                    ...      ...   \n4405              0.250  ...                    0.0      0.0   \n4406              0.250  ...                    1.0      0.0   \n4407              0.125  ...                    0.0      0.0   \n4408              0.250  ...                    1.0      0.0   \n4409              0.250  ...                    1.0      0.0   \n\n      Manufacturing Director  Research Director  Research Scientist  \\\n0                        0.0                0.0                 0.0   \n1                        0.0                0.0                 1.0   \n2                        0.0                0.0                 0.0   \n3                        0.0                0.0                 0.0   \n4                        0.0                0.0                 0.0   \n...                      ...                ...                 ...   \n4405                     0.0                0.0                 1.0   \n4406                     0.0                0.0                 0.0   \n4407                     0.0                0.0                 0.0   \n4408                     0.0                0.0                 0.0   \n4409                     0.0                0.0                 0.0   \n\n      Sales Executive  Sales Representative  Divorced  Married  Single  \n0                 0.0                   0.0       0.0      1.0     0.0  \n1                 0.0                   0.0       0.0      0.0     1.0  \n2                 1.0                   0.0       0.0      1.0     0.0  \n3                 0.0                   0.0       0.0      1.0     0.0  \n4                 1.0                   0.0       0.0      0.0     1.0  \n...               ...                   ...       ...      ...     ...  \n4405              0.0                   0.0       0.0      0.0     1.0  \n4406              0.0                   0.0       1.0      0.0     0.0  \n4407              1.0                   0.0       0.0      1.0     0.0  \n4408              0.0                   0.0       1.0      0.0     0.0  \n4409              0.0                   0.0       1.0      0.0     0.0  \n\n[4410 rows x 50 columns]",
      "text/html": "<div>\n<style scoped>\n    .dataframe tbody tr th:only-of-type {\n        vertical-align: middle;\n    }\n\n    .dataframe tbody tr th {\n        vertical-align: top;\n    }\n\n    .dataframe thead th {\n        text-align: right;\n    }\n</style>\n<table border=\"1\" class=\"dataframe\">\n  <thead>\n    <tr style=\"text-align: right;\">\n      <th></th>\n      <th>Age</th>\n      <th>DistanceFromHome</th>\n      <th>Education</th>\n      <th>EmployeeID</th>\n      <th>JobLevel</th>\n      <th>MonthlyIncome</th>\n      <th>NumCompaniesWorked</th>\n      <th>PercentSalaryHike</th>\n      <th>StockOptionLevel</th>\n      <th>TotalWorkingYears</th>\n      <th>...</th>\n      <th>Laboratory Technician</th>\n      <th>Manager</th>\n      <th>Manufacturing Director</th>\n      <th>Research Director</th>\n      <th>Research Scientist</th>\n      <th>Sales Executive</th>\n      <th>Sales Representative</th>\n      <th>Divorced</th>\n      <th>Married</th>\n      <th>Single</th>\n    </tr>\n  </thead>\n  <tbody>\n    <tr>\n      <th>0</th>\n      <td>0.785714</td>\n      <td>0.178571</td>\n      <td>0.25</td>\n      <td>0.000000</td>\n      <td>0.00</td>\n      <td>0.637546</td>\n      <td>0.111111</td>\n      <td>0.000000</td>\n      <td>0.000000</td>\n      <td>0.025</td>\n      <td>...</td>\n      <td>0.0</td>\n      <td>0.0</td>\n      <td>0.0</td>\n      <td>0.0</td>\n      <td>0.0</td>\n      <td>0.0</td>\n      <td>0.0</td>\n      <td>0.0</td>\n      <td>1.0</td>\n      <td>0.0</td>\n    </tr>\n    <tr>\n      <th>1</th>\n      <td>0.309524</td>\n      <td>0.321429</td>\n      <td>0.00</td>\n      <td>0.000227</td>\n      <td>0.00</td>\n      <td>0.167457</td>\n      <td>0.000000</td>\n      <td>0.857143</td>\n      <td>0.333333</td>\n      <td>0.150</td>\n      <td>...</td>\n      <td>0.0</td>\n      <td>0.0</td>\n      <td>0.0</td>\n      <td>0.0</td>\n      <td>1.0</td>\n      <td>0.0</td>\n      <td>0.0</td>\n      <td>0.0</td>\n      <td>0.0</td>\n      <td>1.0</td>\n    </tr>\n    <tr>\n      <th>2</th>\n      <td>0.333333</td>\n      <td>0.571429</td>\n      <td>0.75</td>\n      <td>0.000454</td>\n      <td>0.75</td>\n      <td>0.964666</td>\n      <td>0.111111</td>\n      <td>0.285714</td>\n      <td>1.000000</td>\n      <td>0.125</td>\n      <td>...</td>\n      <td>0.0</td>\n      <td>0.0</td>\n      <td>0.0</td>\n      <td>0.0</td>\n      <td>0.0</td>\n      <td>1.0</td>\n      <td>0.0</td>\n      <td>0.0</td>\n      <td>1.0</td>\n      <td>0.0</td>\n    </tr>\n    <tr>\n      <th>3</th>\n      <td>0.476190</td>\n      <td>0.035714</td>\n      <td>1.00</td>\n      <td>0.000680</td>\n      <td>0.50</td>\n      <td>0.385045</td>\n      <td>0.333333</td>\n      <td>0.000000</td>\n      <td>1.000000</td>\n      <td>0.325</td>\n      <td>...</td>\n      <td>0.0</td>\n      <td>0.0</td>\n      <td>0.0</td>\n      <td>0.0</td>\n      <td>0.0</td>\n      <td>0.0</td>\n      <td>0.0</td>\n      <td>0.0</td>\n      <td>1.0</td>\n      <td>0.0</td>\n    </tr>\n    <tr>\n      <th>4</th>\n      <td>0.333333</td>\n      <td>0.321429</td>\n      <td>0.00</td>\n      <td>0.000907</td>\n      <td>0.00</td>\n      <td>0.070195</td>\n      <td>0.444444</td>\n      <td>0.071429</td>\n      <td>0.666667</td>\n      <td>0.225</td>\n      <td>...</td>\n      <td>0.0</td>\n      <td>0.0</td>\n      <td>0.0</td>\n      <td>0.0</td>\n      <td>0.0</td>\n      <td>1.0</td>\n      <td>0.0</td>\n      <td>0.0</td>\n      <td>0.0</td>\n      <td>1.0</td>\n    </tr>\n    <tr>\n      <th>...</th>\n      <td>...</td>\n      <td>...</td>\n      <td>...</td>\n      <td>...</td>\n      <td>...</td>\n      <td>...</td>\n      <td>...</td>\n      <td>...</td>\n      <td>...</td>\n      <td>...</td>\n      <td>...</td>\n      <td>...</td>\n      <td>...</td>\n      <td>...</td>\n      <td>...</td>\n      <td>...</td>\n      <td>...</td>\n      <td>...</td>\n      <td>...</td>\n      <td>...</td>\n      <td>...</td>\n    </tr>\n    <tr>\n      <th>4405</th>\n      <td>0.571429</td>\n      <td>0.142857</td>\n      <td>0.75</td>\n      <td>0.999093</td>\n      <td>0.00</td>\n      <td>0.264350</td>\n      <td>0.333333</td>\n      <td>0.428571</td>\n      <td>0.333333</td>\n      <td>0.250</td>\n      <td>...</td>\n      <td>0.0</td>\n      <td>0.0</td>\n      <td>0.0</td>\n      <td>0.0</td>\n      <td>1.0</td>\n      <td>0.0</td>\n      <td>0.0</td>\n      <td>0.0</td>\n      <td>0.0</td>\n      <td>1.0</td>\n    </tr>\n    <tr>\n      <th>4406</th>\n      <td>0.261905</td>\n      <td>0.035714</td>\n      <td>0.75</td>\n      <td>0.999320</td>\n      <td>0.00</td>\n      <td>0.087941</td>\n      <td>0.222222</td>\n      <td>0.285714</td>\n      <td>0.000000</td>\n      <td>0.250</td>\n      <td>...</td>\n      <td>1.0</td>\n      <td>0.0</td>\n      <td>0.0</td>\n      <td>0.0</td>\n      <td>0.0</td>\n      <td>0.0</td>\n      <td>0.0</td>\n      <td>1.0</td>\n      <td>0.0</td>\n      <td>0.0</td>\n    </tr>\n    <tr>\n      <th>4407</th>\n      <td>0.166667</td>\n      <td>0.857143</td>\n      <td>0.25</td>\n      <td>0.999546</td>\n      <td>0.25</td>\n      <td>0.141811</td>\n      <td>0.000000</td>\n      <td>0.642857</td>\n      <td>0.000000</td>\n      <td>0.125</td>\n      <td>...</td>\n      <td>0.0</td>\n      <td>0.0</td>\n      <td>0.0</td>\n      <td>0.0</td>\n      <td>0.0</td>\n      <td>1.0</td>\n      <td>0.0</td>\n      <td>0.0</td>\n      <td>1.0</td>\n      <td>0.0</td>\n    </tr>\n    <tr>\n      <th>4408</th>\n      <td>0.571429</td>\n      <td>0.607143</td>\n      <td>0.25</td>\n      <td>0.999773</td>\n      <td>0.00</td>\n      <td>0.073144</td>\n      <td>0.000000</td>\n      <td>0.214286</td>\n      <td>0.333333</td>\n      <td>0.250</td>\n      <td>...</td>\n      <td>1.0</td>\n      <td>0.0</td>\n      <td>0.0</td>\n      <td>0.0</td>\n      <td>0.0</td>\n      <td>0.0</td>\n      <td>0.0</td>\n      <td>1.0</td>\n      <td>0.0</td>\n      <td>0.0</td>\n    </tr>\n    <tr>\n      <th>4409</th>\n      <td>0.523810</td>\n      <td>0.964286</td>\n      <td>0.50</td>\n      <td>1.000000</td>\n      <td>0.25</td>\n      <td>0.234808</td>\n      <td>0.000000</td>\n      <td>0.071429</td>\n      <td>0.000000</td>\n      <td>0.250</td>\n      <td>...</td>\n      <td>1.0</td>\n      <td>0.0</td>\n      <td>0.0</td>\n      <td>0.0</td>\n      <td>0.0</td>\n      <td>0.0</td>\n      <td>0.0</td>\n      <td>1.0</td>\n      <td>0.0</td>\n      <td>0.0</td>\n    </tr>\n  </tbody>\n</table>\n<p>4410 rows × 50 columns</p>\n</div>"
     },
     "execution_count": 54,
     "metadata": {},
     "output_type": "execute_result"
    }
   ]
  },
  {
   "cell_type": "code",
   "outputs": [],
   "source": [
    "# Display the first 5 rows of the data\n",
    "print(full_employee_data.head())\n",
    "\n",
    "# Display the shape of the data\n",
    "print(full_employee_data.shape)\n",
    "\n",
    "# Display the columns of the data\n",
    "print(full_employee_data.columns)\n",
    "\n",
    "# Display the summary statistics of the data\n",
    "print(full_employee_data.describe(include='all'))\n",
    "\n",
    "# Display the missing values in the data\n",
    "print(full_employee_data.isnull().sum())\n",
    "\n",
    "# Display the unique values in the data\n",
    "full_employee_data.hist(bins=50, figsize=(20, 15))\n",
    "plt.show()"
   ],
   "metadata": {
    "collapsed": false
   }
  },
  {
   "cell_type": "code",
   "outputs": [],
   "source": [
    "# Display the correlation matrix of the data\n",
    "corr_matrix = full_employee_data.corr()\n",
    "print(corr_matrix)"
   ],
   "metadata": {
    "collapsed": false
   }
  },
  {
   "cell_type": "code",
   "outputs": [],
   "source": [
    "full_employee_data.to_csv('cleaned_data.csv', index=False)"
   ],
   "metadata": {
    "collapsed": false,
    "ExecuteTime": {
     "end_time": "2024-12-17T08:27:35.366702Z",
     "start_time": "2024-12-17T08:27:35.239449Z"
    }
   },
   "execution_count": 56
  }
 ]
}
