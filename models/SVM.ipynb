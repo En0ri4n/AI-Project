{
 "cells": [
  {
   "cell_type": "code",
   "execution_count": 32,
   "metadata": {},
   "outputs": [],
   "source": [
    "import pandas as pd\n",
    "from sklearn.model_selection import train_test_split, GridSearchCV \n",
    "from sklearn.svm import SVC\n",
    "from statistics_helper import StatisticsHelper\n",
    "\n",
    "#Load the data\n",
    "full_employee_data: pd.DataFrame = pd.read_csv('full_employee_data_cleaned.csv')\n",
    "\n",
    "#Prepare the data\n",
    "target_column = 'Attrition'\n",
    "#Replace 'target_column' with the actual name of the target column\n",
    "X = full_employee_data.drop(target_column, axis=1)\n",
    "y = full_employee_data[target_column]\n",
    "\n",
    "#Split the data into training and testing sets\n",
    "X_train, X_test, y_train, y_test = train_test_split(X, y, test_size=0.2, shuffle=True, random_state=42)"
   ]
  },
  {
   "cell_type": "code",
   "execution_count": null,
   "metadata": {},
   "outputs": [
    {
     "name": "stdout",
     "output_type": "stream",
     "text": [
      "Fitting 5 folds for each of 16 candidates, totalling 80 fits\n",
      "Best Parameters: {'C': 10, 'gamma': 0.1, 'kernel': 'poly'}\n",
      "Best Cross-Validation Score: 0.9611672995399111\n"
     ]
    },
    {
     "data": {
      "text/plain": [
       "'    #Make predictions\\n    y_pred = svm_model.predict(X_test)\\n    stats_helper = StatisticsHelper(X, y, svm_model, y_test, y_pred)\\n    stats_helper.show_accuracy()\\n    stats_helper.show_cross_val_score()\\n    stats_helper.show_roc_auc_score()'"
      ]
     },
     "execution_count": 33,
     "metadata": {},
     "output_type": "execute_result"
    }
   ],
   "source": [
    "param_grid = {\n",
    "    'C': [1, 10],\n",
    "    'kernel': ['linear', 'rbf', 'poly', 'sigmoid'],\n",
    "    'gamma': [0.01, 0.1]\n",
    "}\n",
    "\n",
    "svm = SVC()\n",
    "\n",
    "grid_search = GridSearchCV(estimator=svm, param_grid=param_grid, cv=5, verbose=1, scoring='accuracy')\n",
    "grid_search.fit(X_train, y_train)\n",
    "\n",
    "# Display the best parameters and score\n",
    "print(\"Best Parameters:\", grid_search.best_params_)\n",
    "print(\"Best Cross-Validation Score:\", grid_search.best_score_)"
   ]
  },
  {
   "cell_type": "markdown",
   "metadata": {},
   "source": [
    "#### The parameters give above were chosen after some trial and error. C values below 1 and above 10 were insignificant or redundent. Gamma values below 0.01 would lead to minimal learning of the negatives and above 0.1 would lead to clear overfitting. Hence among the given values, the best model was found."
   ]
  },
  {
   "cell_type": "code",
   "execution_count": 34,
   "metadata": {},
   "outputs": [
    {
     "name": "stdout",
     "output_type": "stream",
     "text": [
      "---- Accuracy ----\n",
      "Accuracy: 0.981859410430839\n",
      "------------------\n",
      "---- ROC AUC Score ----\n",
      "ROC AUC Score: 0.9490050822637609\n",
      "------------------------\n",
      "---- Classification Report ----\n",
      "              precision    recall  f1-score   support\n",
      "\n",
      "         0.0       0.98      1.00      0.99       741\n",
      "         1.0       0.98      0.90      0.94       141\n",
      "\n",
      "    accuracy                           0.98       882\n",
      "   macro avg       0.98      0.95      0.97       882\n",
      "weighted avg       0.98      0.98      0.98       882\n",
      "\n",
      "-------------------------------\n"
     ]
    },
    {
     "data": {
      "image/png": "[encoded data removed]",
      "text/plain": [
       "<Figure size 640x480 with 2 Axes>"
      ]
     },
     "metadata": {},
     "output_type": "display_data"
    },
    {
     "name": "stdout",
     "output_type": "stream",
     "text": [
      "--- Cross Validation Scores ---\n",
      "Cross-validated scores: [0.99092971 0.98979592 0.98639456 0.99206349 0.98752834]\n",
      "Mean accuracy: 0.9893424036281179\n",
      "Standard deviation: 0.002102861336847111\n",
      "-------------------------------\n"
     ]
    }
   ],
   "source": [
    "svm_model = grid_search.best_estimator_\n",
    "svm_model.fit(X_train, y_train)\n",
    "\n",
    "# Make predictions\n",
    "y_pred = svm_model.predict(X_test)\n",
    "\n",
    "stats_helper = StatisticsHelper(X, y, svm_model, y_test, y_pred)\n",
    "stats_helper.show_all(is_regression=False)"
   ]
  }
 ],
 "metadata": {
  "kernelspec": {
   "display_name": "Python 3",
   "language": "python",
   "name": "python3"
  },
  "language_info": {
   "codemirror_mode": {
    "name": "ipython",
    "version": 3
   },
   "file_extension": ".py",
   "mimetype": "text/x-python",
   "name": "python",
   "nbconvert_exporter": "python",
   "pygments_lexer": "ipython3",
   "version": "3.12.6"
  }
 },
 "nbformat": 4,
 "nbformat_minor": 2
}
